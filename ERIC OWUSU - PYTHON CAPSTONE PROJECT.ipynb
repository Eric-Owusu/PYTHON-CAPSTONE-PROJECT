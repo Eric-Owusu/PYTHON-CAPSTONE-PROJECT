{
 "cells": [
  {
   "cell_type": "markdown",
   "id": "0fc62328",
   "metadata": {},
   "source": [
    "# PYTHON PROJECT\n",
    "\n",
    "### This Data Analysis Project is about a data on laptops, sourced from Kaggle, containing laptop configurations and features with prices from different brands. The project's objectives include exploring into the laptop brands in the market, delving into their features as against their prices. The project will give insights about the laptop industry that laptop companies can use to strategise for competitive advantage in the market. The insights from this project can also help consumers make the right buying decisions knowing in advance what exactly they are putting their money into. Consumers will make their right choices getting value for money."
   ]
  },
  {
   "cell_type": "code",
   "execution_count": null,
   "id": "c1dfc032",
   "metadata": {},
   "outputs": [],
   "source": []
  },
  {
   "cell_type": "markdown",
   "id": "e52c3bf0",
   "metadata": {},
   "source": [
    "# We start by importing the necessary libraries."
   ]
  },
  {
   "cell_type": "code",
   "execution_count": 1,
   "id": "45f3106c",
   "metadata": {},
   "outputs": [],
   "source": [
    "import seaborn as sns\n",
    "import matplotlib.pyplot as plt\n",
    "import numpy as np\n",
    "import pandas as pd"
   ]
  },
  {
   "cell_type": "code",
   "execution_count": null,
   "id": "584ce433",
   "metadata": {},
   "outputs": [],
   "source": []
  },
  {
   "cell_type": "markdown",
   "id": "bd8dccbd",
   "metadata": {},
   "source": [
    "# Loading data"
   ]
  },
  {
   "cell_type": "code",
   "execution_count": 2,
   "id": "32d80b03",
   "metadata": {},
   "outputs": [],
   "source": [
    "data = pd.read_csv('laptopData.csv')"
   ]
  },
  {
   "cell_type": "code",
   "execution_count": 3,
   "id": "12fa79b0",
   "metadata": {},
   "outputs": [],
   "source": [
    "# checking the first 5 rows of data"
   ]
  },
  {
   "cell_type": "code",
   "execution_count": 4,
   "id": "7c8fcb3e",
   "metadata": {},
   "outputs": [
    {
     "data": {
      "text/html": [
       "<div>\n",
       "<style scoped>\n",
       "    .dataframe tbody tr th:only-of-type {\n",
       "        vertical-align: middle;\n",
       "    }\n",
       "\n",
       "    .dataframe tbody tr th {\n",
       "        vertical-align: top;\n",
       "    }\n",
       "\n",
       "    .dataframe thead th {\n",
       "        text-align: right;\n",
       "    }\n",
       "</style>\n",
       "<table border=\"1\" class=\"dataframe\">\n",
       "  <thead>\n",
       "    <tr style=\"text-align: right;\">\n",
       "      <th></th>\n",
       "      <th>Unnamed: 0</th>\n",
       "      <th>Company</th>\n",
       "      <th>TypeName</th>\n",
       "      <th>Inches</th>\n",
       "      <th>ScreenResolution</th>\n",
       "      <th>Cpu</th>\n",
       "      <th>Ram</th>\n",
       "      <th>Memory</th>\n",
       "      <th>Gpu</th>\n",
       "      <th>OpSys</th>\n",
       "      <th>Weight</th>\n",
       "      <th>Price</th>\n",
       "    </tr>\n",
       "  </thead>\n",
       "  <tbody>\n",
       "    <tr>\n",
       "      <th>0</th>\n",
       "      <td>0.0</td>\n",
       "      <td>Apple</td>\n",
       "      <td>Ultrabook</td>\n",
       "      <td>13.3</td>\n",
       "      <td>IPS Panel Retina Display 2560x1600</td>\n",
       "      <td>Intel Core i5 2.3GHz</td>\n",
       "      <td>8GB</td>\n",
       "      <td>128GB SSD</td>\n",
       "      <td>Intel Iris Plus Graphics 640</td>\n",
       "      <td>macOS</td>\n",
       "      <td>1.37kg</td>\n",
       "      <td>71378.6832</td>\n",
       "    </tr>\n",
       "    <tr>\n",
       "      <th>1</th>\n",
       "      <td>1.0</td>\n",
       "      <td>Apple</td>\n",
       "      <td>Ultrabook</td>\n",
       "      <td>13.3</td>\n",
       "      <td>1440x900</td>\n",
       "      <td>Intel Core i5 1.8GHz</td>\n",
       "      <td>8GB</td>\n",
       "      <td>128GB Flash Storage</td>\n",
       "      <td>Intel HD Graphics 6000</td>\n",
       "      <td>macOS</td>\n",
       "      <td>1.34kg</td>\n",
       "      <td>47895.5232</td>\n",
       "    </tr>\n",
       "    <tr>\n",
       "      <th>2</th>\n",
       "      <td>2.0</td>\n",
       "      <td>HP</td>\n",
       "      <td>Notebook</td>\n",
       "      <td>15.6</td>\n",
       "      <td>Full HD 1920x1080</td>\n",
       "      <td>Intel Core i5 7200U 2.5GHz</td>\n",
       "      <td>8GB</td>\n",
       "      <td>256GB SSD</td>\n",
       "      <td>Intel HD Graphics 620</td>\n",
       "      <td>No OS</td>\n",
       "      <td>1.86kg</td>\n",
       "      <td>30636.0000</td>\n",
       "    </tr>\n",
       "    <tr>\n",
       "      <th>3</th>\n",
       "      <td>3.0</td>\n",
       "      <td>Apple</td>\n",
       "      <td>Ultrabook</td>\n",
       "      <td>15.4</td>\n",
       "      <td>IPS Panel Retina Display 2880x1800</td>\n",
       "      <td>Intel Core i7 2.7GHz</td>\n",
       "      <td>16GB</td>\n",
       "      <td>512GB SSD</td>\n",
       "      <td>AMD Radeon Pro 455</td>\n",
       "      <td>macOS</td>\n",
       "      <td>1.83kg</td>\n",
       "      <td>135195.3360</td>\n",
       "    </tr>\n",
       "    <tr>\n",
       "      <th>4</th>\n",
       "      <td>4.0</td>\n",
       "      <td>Apple</td>\n",
       "      <td>Ultrabook</td>\n",
       "      <td>13.3</td>\n",
       "      <td>IPS Panel Retina Display 2560x1600</td>\n",
       "      <td>Intel Core i5 3.1GHz</td>\n",
       "      <td>8GB</td>\n",
       "      <td>256GB SSD</td>\n",
       "      <td>Intel Iris Plus Graphics 650</td>\n",
       "      <td>macOS</td>\n",
       "      <td>1.37kg</td>\n",
       "      <td>96095.8080</td>\n",
       "    </tr>\n",
       "  </tbody>\n",
       "</table>\n",
       "</div>"
      ],
      "text/plain": [
       "   Unnamed: 0 Company   TypeName Inches                    ScreenResolution  \\\n",
       "0         0.0   Apple  Ultrabook   13.3  IPS Panel Retina Display 2560x1600   \n",
       "1         1.0   Apple  Ultrabook   13.3                            1440x900   \n",
       "2         2.0      HP   Notebook   15.6                   Full HD 1920x1080   \n",
       "3         3.0   Apple  Ultrabook   15.4  IPS Panel Retina Display 2880x1800   \n",
       "4         4.0   Apple  Ultrabook   13.3  IPS Panel Retina Display 2560x1600   \n",
       "\n",
       "                          Cpu   Ram               Memory  \\\n",
       "0        Intel Core i5 2.3GHz   8GB            128GB SSD   \n",
       "1        Intel Core i5 1.8GHz   8GB  128GB Flash Storage   \n",
       "2  Intel Core i5 7200U 2.5GHz   8GB            256GB SSD   \n",
       "3        Intel Core i7 2.7GHz  16GB            512GB SSD   \n",
       "4        Intel Core i5 3.1GHz   8GB            256GB SSD   \n",
       "\n",
       "                            Gpu  OpSys  Weight        Price  \n",
       "0  Intel Iris Plus Graphics 640  macOS  1.37kg   71378.6832  \n",
       "1        Intel HD Graphics 6000  macOS  1.34kg   47895.5232  \n",
       "2         Intel HD Graphics 620  No OS  1.86kg   30636.0000  \n",
       "3            AMD Radeon Pro 455  macOS  1.83kg  135195.3360  \n",
       "4  Intel Iris Plus Graphics 650  macOS  1.37kg   96095.8080  "
      ]
     },
     "execution_count": 4,
     "metadata": {},
     "output_type": "execute_result"
    }
   ],
   "source": [
    "data.head()"
   ]
  },
  {
   "cell_type": "code",
   "execution_count": 5,
   "id": "4a06f5e2",
   "metadata": {},
   "outputs": [],
   "source": [
    "# checking the last 5 rows of the data"
   ]
  },
  {
   "cell_type": "code",
   "execution_count": 6,
   "id": "003120e8",
   "metadata": {},
   "outputs": [
    {
     "data": {
      "text/html": [
       "<div>\n",
       "<style scoped>\n",
       "    .dataframe tbody tr th:only-of-type {\n",
       "        vertical-align: middle;\n",
       "    }\n",
       "\n",
       "    .dataframe tbody tr th {\n",
       "        vertical-align: top;\n",
       "    }\n",
       "\n",
       "    .dataframe thead th {\n",
       "        text-align: right;\n",
       "    }\n",
       "</style>\n",
       "<table border=\"1\" class=\"dataframe\">\n",
       "  <thead>\n",
       "    <tr style=\"text-align: right;\">\n",
       "      <th></th>\n",
       "      <th>Unnamed: 0</th>\n",
       "      <th>Company</th>\n",
       "      <th>TypeName</th>\n",
       "      <th>Inches</th>\n",
       "      <th>ScreenResolution</th>\n",
       "      <th>Cpu</th>\n",
       "      <th>Ram</th>\n",
       "      <th>Memory</th>\n",
       "      <th>Gpu</th>\n",
       "      <th>OpSys</th>\n",
       "      <th>Weight</th>\n",
       "      <th>Price</th>\n",
       "    </tr>\n",
       "  </thead>\n",
       "  <tbody>\n",
       "    <tr>\n",
       "      <th>1298</th>\n",
       "      <td>1298.0</td>\n",
       "      <td>Lenovo</td>\n",
       "      <td>2 in 1 Convertible</td>\n",
       "      <td>14</td>\n",
       "      <td>IPS Panel Full HD / Touchscreen 1920x1080</td>\n",
       "      <td>Intel Core i7 6500U 2.5GHz</td>\n",
       "      <td>4GB</td>\n",
       "      <td>128GB SSD</td>\n",
       "      <td>Intel HD Graphics 520</td>\n",
       "      <td>Windows 10</td>\n",
       "      <td>1.8kg</td>\n",
       "      <td>33992.64</td>\n",
       "    </tr>\n",
       "    <tr>\n",
       "      <th>1299</th>\n",
       "      <td>1299.0</td>\n",
       "      <td>Lenovo</td>\n",
       "      <td>2 in 1 Convertible</td>\n",
       "      <td>13.3</td>\n",
       "      <td>IPS Panel Quad HD+ / Touchscreen 3200x1800</td>\n",
       "      <td>Intel Core i7 6500U 2.5GHz</td>\n",
       "      <td>16GB</td>\n",
       "      <td>512GB SSD</td>\n",
       "      <td>Intel HD Graphics 520</td>\n",
       "      <td>Windows 10</td>\n",
       "      <td>1.3kg</td>\n",
       "      <td>79866.72</td>\n",
       "    </tr>\n",
       "    <tr>\n",
       "      <th>1300</th>\n",
       "      <td>1300.0</td>\n",
       "      <td>Lenovo</td>\n",
       "      <td>Notebook</td>\n",
       "      <td>14</td>\n",
       "      <td>1366x768</td>\n",
       "      <td>Intel Celeron Dual Core N3050 1.6GHz</td>\n",
       "      <td>2GB</td>\n",
       "      <td>64GB Flash Storage</td>\n",
       "      <td>Intel HD Graphics</td>\n",
       "      <td>Windows 10</td>\n",
       "      <td>1.5kg</td>\n",
       "      <td>12201.12</td>\n",
       "    </tr>\n",
       "    <tr>\n",
       "      <th>1301</th>\n",
       "      <td>1301.0</td>\n",
       "      <td>HP</td>\n",
       "      <td>Notebook</td>\n",
       "      <td>15.6</td>\n",
       "      <td>1366x768</td>\n",
       "      <td>Intel Core i7 6500U 2.5GHz</td>\n",
       "      <td>6GB</td>\n",
       "      <td>1TB HDD</td>\n",
       "      <td>AMD Radeon R5 M330</td>\n",
       "      <td>Windows 10</td>\n",
       "      <td>2.19kg</td>\n",
       "      <td>40705.92</td>\n",
       "    </tr>\n",
       "    <tr>\n",
       "      <th>1302</th>\n",
       "      <td>1302.0</td>\n",
       "      <td>Asus</td>\n",
       "      <td>Notebook</td>\n",
       "      <td>15.6</td>\n",
       "      <td>1366x768</td>\n",
       "      <td>Intel Celeron Dual Core N3050 1.6GHz</td>\n",
       "      <td>4GB</td>\n",
       "      <td>500GB HDD</td>\n",
       "      <td>Intel HD Graphics</td>\n",
       "      <td>Windows 10</td>\n",
       "      <td>2.2kg</td>\n",
       "      <td>19660.32</td>\n",
       "    </tr>\n",
       "  </tbody>\n",
       "</table>\n",
       "</div>"
      ],
      "text/plain": [
       "      Unnamed: 0 Company            TypeName Inches  \\\n",
       "1298      1298.0  Lenovo  2 in 1 Convertible     14   \n",
       "1299      1299.0  Lenovo  2 in 1 Convertible   13.3   \n",
       "1300      1300.0  Lenovo            Notebook     14   \n",
       "1301      1301.0      HP            Notebook   15.6   \n",
       "1302      1302.0    Asus            Notebook   15.6   \n",
       "\n",
       "                                ScreenResolution  \\\n",
       "1298   IPS Panel Full HD / Touchscreen 1920x1080   \n",
       "1299  IPS Panel Quad HD+ / Touchscreen 3200x1800   \n",
       "1300                                    1366x768   \n",
       "1301                                    1366x768   \n",
       "1302                                    1366x768   \n",
       "\n",
       "                                       Cpu   Ram              Memory  \\\n",
       "1298            Intel Core i7 6500U 2.5GHz   4GB           128GB SSD   \n",
       "1299            Intel Core i7 6500U 2.5GHz  16GB           512GB SSD   \n",
       "1300  Intel Celeron Dual Core N3050 1.6GHz   2GB  64GB Flash Storage   \n",
       "1301            Intel Core i7 6500U 2.5GHz   6GB             1TB HDD   \n",
       "1302  Intel Celeron Dual Core N3050 1.6GHz   4GB           500GB HDD   \n",
       "\n",
       "                        Gpu       OpSys  Weight     Price  \n",
       "1298  Intel HD Graphics 520  Windows 10   1.8kg  33992.64  \n",
       "1299  Intel HD Graphics 520  Windows 10   1.3kg  79866.72  \n",
       "1300      Intel HD Graphics  Windows 10   1.5kg  12201.12  \n",
       "1301     AMD Radeon R5 M330  Windows 10  2.19kg  40705.92  \n",
       "1302      Intel HD Graphics  Windows 10   2.2kg  19660.32  "
      ]
     },
     "execution_count": 6,
     "metadata": {},
     "output_type": "execute_result"
    }
   ],
   "source": [
    "data.tail()"
   ]
  },
  {
   "cell_type": "code",
   "execution_count": 7,
   "id": "7cad2cb3",
   "metadata": {},
   "outputs": [],
   "source": [
    "# Quick inspection of the data"
   ]
  },
  {
   "cell_type": "code",
   "execution_count": 8,
   "id": "b5bacdaa",
   "metadata": {},
   "outputs": [
    {
     "name": "stdout",
     "output_type": "stream",
     "text": [
      "<class 'pandas.core.frame.DataFrame'>\n",
      "RangeIndex: 1303 entries, 0 to 1302\n",
      "Data columns (total 12 columns):\n",
      " #   Column            Non-Null Count  Dtype  \n",
      "---  ------            --------------  -----  \n",
      " 0   Unnamed: 0        1273 non-null   float64\n",
      " 1   Company           1273 non-null   object \n",
      " 2   TypeName          1273 non-null   object \n",
      " 3   Inches            1273 non-null   object \n",
      " 4   ScreenResolution  1273 non-null   object \n",
      " 5   Cpu               1273 non-null   object \n",
      " 6   Ram               1273 non-null   object \n",
      " 7   Memory            1273 non-null   object \n",
      " 8   Gpu               1273 non-null   object \n",
      " 9   OpSys             1273 non-null   object \n",
      " 10  Weight            1273 non-null   object \n",
      " 11  Price             1273 non-null   float64\n",
      "dtypes: float64(2), object(10)\n",
      "memory usage: 122.3+ KB\n"
     ]
    }
   ],
   "source": [
    "data.info()"
   ]
  },
  {
   "cell_type": "code",
   "execution_count": 9,
   "id": "c89efa62",
   "metadata": {},
   "outputs": [],
   "source": [
    "# getting summary statistics of the data"
   ]
  },
  {
   "cell_type": "code",
   "execution_count": 10,
   "id": "2b444bf4",
   "metadata": {},
   "outputs": [
    {
     "data": {
      "text/html": [
       "<div>\n",
       "<style scoped>\n",
       "    .dataframe tbody tr th:only-of-type {\n",
       "        vertical-align: middle;\n",
       "    }\n",
       "\n",
       "    .dataframe tbody tr th {\n",
       "        vertical-align: top;\n",
       "    }\n",
       "\n",
       "    .dataframe thead th {\n",
       "        text-align: right;\n",
       "    }\n",
       "</style>\n",
       "<table border=\"1\" class=\"dataframe\">\n",
       "  <thead>\n",
       "    <tr style=\"text-align: right;\">\n",
       "      <th></th>\n",
       "      <th>Unnamed: 0</th>\n",
       "      <th>Price</th>\n",
       "    </tr>\n",
       "  </thead>\n",
       "  <tbody>\n",
       "    <tr>\n",
       "      <th>count</th>\n",
       "      <td>1273.000000</td>\n",
       "      <td>1273.000000</td>\n",
       "    </tr>\n",
       "    <tr>\n",
       "      <th>mean</th>\n",
       "      <td>652.674784</td>\n",
       "      <td>59955.814073</td>\n",
       "    </tr>\n",
       "    <tr>\n",
       "      <th>std</th>\n",
       "      <td>376.493027</td>\n",
       "      <td>37332.251005</td>\n",
       "    </tr>\n",
       "    <tr>\n",
       "      <th>min</th>\n",
       "      <td>0.000000</td>\n",
       "      <td>9270.720000</td>\n",
       "    </tr>\n",
       "    <tr>\n",
       "      <th>25%</th>\n",
       "      <td>327.000000</td>\n",
       "      <td>31914.720000</td>\n",
       "    </tr>\n",
       "    <tr>\n",
       "      <th>50%</th>\n",
       "      <td>652.000000</td>\n",
       "      <td>52161.120000</td>\n",
       "    </tr>\n",
       "    <tr>\n",
       "      <th>75%</th>\n",
       "      <td>980.000000</td>\n",
       "      <td>79333.387200</td>\n",
       "    </tr>\n",
       "    <tr>\n",
       "      <th>max</th>\n",
       "      <td>1302.000000</td>\n",
       "      <td>324954.720000</td>\n",
       "    </tr>\n",
       "  </tbody>\n",
       "</table>\n",
       "</div>"
      ],
      "text/plain": [
       "        Unnamed: 0          Price\n",
       "count  1273.000000    1273.000000\n",
       "mean    652.674784   59955.814073\n",
       "std     376.493027   37332.251005\n",
       "min       0.000000    9270.720000\n",
       "25%     327.000000   31914.720000\n",
       "50%     652.000000   52161.120000\n",
       "75%     980.000000   79333.387200\n",
       "max    1302.000000  324954.720000"
      ]
     },
     "execution_count": 10,
     "metadata": {},
     "output_type": "execute_result"
    }
   ],
   "source": [
    "data.describe()"
   ]
  },
  {
   "cell_type": "code",
   "execution_count": 11,
   "id": "80804b0b",
   "metadata": {},
   "outputs": [],
   "source": [
    "# summary of all data types"
   ]
  },
  {
   "cell_type": "code",
   "execution_count": 12,
   "id": "00ce33ef",
   "metadata": {},
   "outputs": [],
   "source": [
    "#checking the shape ofthe data"
   ]
  },
  {
   "cell_type": "code",
   "execution_count": 13,
   "id": "4387e952",
   "metadata": {},
   "outputs": [
    {
     "data": {
      "text/plain": [
       "(1303, 12)"
      ]
     },
     "execution_count": 13,
     "metadata": {},
     "output_type": "execute_result"
    }
   ],
   "source": [
    "data.shape"
   ]
  },
  {
   "cell_type": "markdown",
   "id": "d4047e31",
   "metadata": {},
   "source": [
    "### the dataset has 1303 rows and 12 columns"
   ]
  },
  {
   "cell_type": "code",
   "execution_count": 14,
   "id": "527ab303",
   "metadata": {},
   "outputs": [],
   "source": [
    "# checking for duplicates enteries"
   ]
  },
  {
   "cell_type": "code",
   "execution_count": 15,
   "id": "e1b44fc8",
   "metadata": {},
   "outputs": [],
   "source": [
    "# checking the number of duplicated entries"
   ]
  },
  {
   "cell_type": "code",
   "execution_count": 16,
   "id": "461ba399",
   "metadata": {},
   "outputs": [
    {
     "data": {
      "text/plain": [
       "29"
      ]
     },
     "execution_count": 16,
     "metadata": {},
     "output_type": "execute_result"
    }
   ],
   "source": [
    "data.duplicated().sum()"
   ]
  },
  {
   "cell_type": "code",
   "execution_count": 17,
   "id": "64eb90a8",
   "metadata": {},
   "outputs": [],
   "source": [
    "# drop duplicates\n",
    "data.drop_duplicates(inplace=True)"
   ]
  },
  {
   "cell_type": "code",
   "execution_count": 18,
   "id": "495a4b51",
   "metadata": {},
   "outputs": [
    {
     "data": {
      "text/plain": [
       "(1274, 12)"
      ]
     },
     "execution_count": 18,
     "metadata": {},
     "output_type": "execute_result"
    }
   ],
   "source": [
    "# checking the shape\n",
    "data.shape"
   ]
  },
  {
   "cell_type": "code",
   "execution_count": 19,
   "id": "7ad9d7c7",
   "metadata": {},
   "outputs": [
    {
     "data": {
      "text/plain": [
       "Unnamed: 0          float64\n",
       "Company              object\n",
       "TypeName             object\n",
       "Inches               object\n",
       "ScreenResolution     object\n",
       "Cpu                  object\n",
       "Ram                  object\n",
       "Memory               object\n",
       "Gpu                  object\n",
       "OpSys                object\n",
       "Weight               object\n",
       "Price               float64\n",
       "dtype: object"
      ]
     },
     "execution_count": 19,
     "metadata": {},
     "output_type": "execute_result"
    }
   ],
   "source": [
    "# data type of each column\n",
    "data.dtypes"
   ]
  },
  {
   "cell_type": "code",
   "execution_count": null,
   "id": "ac5f6b9e",
   "metadata": {},
   "outputs": [],
   "source": []
  },
  {
   "cell_type": "markdown",
   "id": "d1dfdff9",
   "metadata": {},
   "source": [
    "# Highlights of data cleaning\n",
    "### renaming columns\n",
    "### change data types \n"
   ]
  },
  {
   "cell_type": "code",
   "execution_count": 20,
   "id": "99f6ef7a",
   "metadata": {},
   "outputs": [],
   "source": [
    "# renaming Cpu column to Central_processing_unit\n",
    "data.rename({\"Cpu\":\"Central_processing_unit\"},axis=1, inplace=True)"
   ]
  },
  {
   "cell_type": "code",
   "execution_count": 21,
   "id": "afcd70cb",
   "metadata": {},
   "outputs": [],
   "source": [
    "# renaming Unnamed: to Id\n",
    "data.rename({\"Unnamed: 0\":\"Id\"}, axis=1, inplace=True)                "
   ]
  },
  {
   "cell_type": "code",
   "execution_count": 22,
   "id": "51d2eb7b",
   "metadata": {},
   "outputs": [],
   "source": [
    "#renaming Gpu column to Graphics_processing_unit\n",
    "data.rename({\"Gpu\":\"Grapics_processing_unit\"}, axis=1, inplace=True)"
   ]
  },
  {
   "cell_type": "code",
   "execution_count": 23,
   "id": "32e84e87",
   "metadata": {},
   "outputs": [],
   "source": [
    "#renaming OpSys to Operating_System\n",
    "data.rename({\"OpSys\":\"Operating_System\"}, axis=1, inplace=True)"
   ]
  },
  {
   "cell_type": "code",
   "execution_count": 24,
   "id": "1b092275",
   "metadata": {},
   "outputs": [
    {
     "data": {
      "text/html": [
       "<div>\n",
       "<style scoped>\n",
       "    .dataframe tbody tr th:only-of-type {\n",
       "        vertical-align: middle;\n",
       "    }\n",
       "\n",
       "    .dataframe tbody tr th {\n",
       "        vertical-align: top;\n",
       "    }\n",
       "\n",
       "    .dataframe thead th {\n",
       "        text-align: right;\n",
       "    }\n",
       "</style>\n",
       "<table border=\"1\" class=\"dataframe\">\n",
       "  <thead>\n",
       "    <tr style=\"text-align: right;\">\n",
       "      <th></th>\n",
       "      <th>Id</th>\n",
       "      <th>Company</th>\n",
       "      <th>TypeName</th>\n",
       "      <th>Inches</th>\n",
       "      <th>ScreenResolution</th>\n",
       "      <th>Central_processing_unit</th>\n",
       "      <th>Ram</th>\n",
       "      <th>Memory</th>\n",
       "      <th>Grapics_processing_unit</th>\n",
       "      <th>Operating_System</th>\n",
       "      <th>Weight</th>\n",
       "      <th>Price</th>\n",
       "    </tr>\n",
       "  </thead>\n",
       "  <tbody>\n",
       "    <tr>\n",
       "      <th>0</th>\n",
       "      <td>0.0</td>\n",
       "      <td>Apple</td>\n",
       "      <td>Ultrabook</td>\n",
       "      <td>13.3</td>\n",
       "      <td>IPS Panel Retina Display 2560x1600</td>\n",
       "      <td>Intel Core i5 2.3GHz</td>\n",
       "      <td>8GB</td>\n",
       "      <td>128GB SSD</td>\n",
       "      <td>Intel Iris Plus Graphics 640</td>\n",
       "      <td>macOS</td>\n",
       "      <td>1.37kg</td>\n",
       "      <td>71378.6832</td>\n",
       "    </tr>\n",
       "    <tr>\n",
       "      <th>1</th>\n",
       "      <td>1.0</td>\n",
       "      <td>Apple</td>\n",
       "      <td>Ultrabook</td>\n",
       "      <td>13.3</td>\n",
       "      <td>1440x900</td>\n",
       "      <td>Intel Core i5 1.8GHz</td>\n",
       "      <td>8GB</td>\n",
       "      <td>128GB Flash Storage</td>\n",
       "      <td>Intel HD Graphics 6000</td>\n",
       "      <td>macOS</td>\n",
       "      <td>1.34kg</td>\n",
       "      <td>47895.5232</td>\n",
       "    </tr>\n",
       "    <tr>\n",
       "      <th>2</th>\n",
       "      <td>2.0</td>\n",
       "      <td>HP</td>\n",
       "      <td>Notebook</td>\n",
       "      <td>15.6</td>\n",
       "      <td>Full HD 1920x1080</td>\n",
       "      <td>Intel Core i5 7200U 2.5GHz</td>\n",
       "      <td>8GB</td>\n",
       "      <td>256GB SSD</td>\n",
       "      <td>Intel HD Graphics 620</td>\n",
       "      <td>No OS</td>\n",
       "      <td>1.86kg</td>\n",
       "      <td>30636.0000</td>\n",
       "    </tr>\n",
       "    <tr>\n",
       "      <th>3</th>\n",
       "      <td>3.0</td>\n",
       "      <td>Apple</td>\n",
       "      <td>Ultrabook</td>\n",
       "      <td>15.4</td>\n",
       "      <td>IPS Panel Retina Display 2880x1800</td>\n",
       "      <td>Intel Core i7 2.7GHz</td>\n",
       "      <td>16GB</td>\n",
       "      <td>512GB SSD</td>\n",
       "      <td>AMD Radeon Pro 455</td>\n",
       "      <td>macOS</td>\n",
       "      <td>1.83kg</td>\n",
       "      <td>135195.3360</td>\n",
       "    </tr>\n",
       "    <tr>\n",
       "      <th>4</th>\n",
       "      <td>4.0</td>\n",
       "      <td>Apple</td>\n",
       "      <td>Ultrabook</td>\n",
       "      <td>13.3</td>\n",
       "      <td>IPS Panel Retina Display 2560x1600</td>\n",
       "      <td>Intel Core i5 3.1GHz</td>\n",
       "      <td>8GB</td>\n",
       "      <td>256GB SSD</td>\n",
       "      <td>Intel Iris Plus Graphics 650</td>\n",
       "      <td>macOS</td>\n",
       "      <td>1.37kg</td>\n",
       "      <td>96095.8080</td>\n",
       "    </tr>\n",
       "  </tbody>\n",
       "</table>\n",
       "</div>"
      ],
      "text/plain": [
       "    Id Company   TypeName Inches                    ScreenResolution  \\\n",
       "0  0.0   Apple  Ultrabook   13.3  IPS Panel Retina Display 2560x1600   \n",
       "1  1.0   Apple  Ultrabook   13.3                            1440x900   \n",
       "2  2.0      HP   Notebook   15.6                   Full HD 1920x1080   \n",
       "3  3.0   Apple  Ultrabook   15.4  IPS Panel Retina Display 2880x1800   \n",
       "4  4.0   Apple  Ultrabook   13.3  IPS Panel Retina Display 2560x1600   \n",
       "\n",
       "      Central_processing_unit   Ram               Memory  \\\n",
       "0        Intel Core i5 2.3GHz   8GB            128GB SSD   \n",
       "1        Intel Core i5 1.8GHz   8GB  128GB Flash Storage   \n",
       "2  Intel Core i5 7200U 2.5GHz   8GB            256GB SSD   \n",
       "3        Intel Core i7 2.7GHz  16GB            512GB SSD   \n",
       "4        Intel Core i5 3.1GHz   8GB            256GB SSD   \n",
       "\n",
       "        Grapics_processing_unit Operating_System  Weight        Price  \n",
       "0  Intel Iris Plus Graphics 640            macOS  1.37kg   71378.6832  \n",
       "1        Intel HD Graphics 6000            macOS  1.34kg   47895.5232  \n",
       "2         Intel HD Graphics 620            No OS  1.86kg   30636.0000  \n",
       "3            AMD Radeon Pro 455            macOS  1.83kg  135195.3360  \n",
       "4  Intel Iris Plus Graphics 650            macOS  1.37kg   96095.8080  "
      ]
     },
     "execution_count": 24,
     "metadata": {},
     "output_type": "execute_result"
    }
   ],
   "source": [
    "data.head()"
   ]
  },
  {
   "cell_type": "code",
   "execution_count": 25,
   "id": "1e66b8e9",
   "metadata": {},
   "outputs": [],
   "source": [
    "#convert data type Id to object\n",
    "data[\"Id\"]= data[\"Id\"].astype(\"object\")"
   ]
  },
  {
   "cell_type": "code",
   "execution_count": 26,
   "id": "fd5c67d5",
   "metadata": {},
   "outputs": [],
   "source": [
    "# convert data type TypeName to category\n",
    "data[\"TypeName\"]= data[\"TypeName\"].astype(\"category\")"
   ]
  },
  {
   "cell_type": "code",
   "execution_count": 27,
   "id": "d4012e60",
   "metadata": {},
   "outputs": [],
   "source": [
    "# convert datatype Operating_System to a category\n",
    "data[\"Operating_System\"]= data[\"Operating_System\"].astype(\"category\")"
   ]
  },
  {
   "cell_type": "code",
   "execution_count": 28,
   "id": "7b43095a",
   "metadata": {},
   "outputs": [],
   "source": [
    "# convert datatype Graphics_processing_unit to a category\n",
    "data[\"Grapics_processing_unit\"]= data[\"Grapics_processing_unit\"].astype(\"category\")"
   ]
  },
  {
   "cell_type": "code",
   "execution_count": 29,
   "id": "e0bcfbea",
   "metadata": {},
   "outputs": [],
   "source": [
    "# convert data type company to a category\n",
    "data[\"Company\"]= data[\"Company\"].astype(\"category\")"
   ]
  },
  {
   "cell_type": "code",
   "execution_count": 30,
   "id": "455d025e",
   "metadata": {},
   "outputs": [],
   "source": [
    "data.rename({\"TypeName\":\"Laptop_type\"}, axis=1, inplace=True)"
   ]
  },
  {
   "cell_type": "code",
   "execution_count": 31,
   "id": "441bd9c8",
   "metadata": {},
   "outputs": [],
   "source": [
    "#renaming Gpu column to Graphics_processing_unit\n",
    "data.rename({\"Gpu\":\"Graphics_processing_unit\"}, axis=1, inplace=True)"
   ]
  },
  {
   "cell_type": "code",
   "execution_count": 32,
   "id": "818ae80e",
   "metadata": {},
   "outputs": [],
   "source": [
    "# convert data type Memory to a category\n",
    "data[\"Memory\"]= data[\"Memory\"].astype(\"category\")"
   ]
  },
  {
   "cell_type": "code",
   "execution_count": 33,
   "id": "11602a3d",
   "metadata": {},
   "outputs": [],
   "source": [
    "# convert data type Ram to a category\n",
    "data[\"Ram\"]= data[\"Ram\"].astype(\"category\")"
   ]
  },
  {
   "cell_type": "code",
   "execution_count": 34,
   "id": "472eccad",
   "metadata": {},
   "outputs": [],
   "source": [
    "# convert data type Ram to a category\n",
    "data[\"Inches\"]= data[\"Inches\"].astype(\"category\")"
   ]
  },
  {
   "cell_type": "code",
   "execution_count": 35,
   "id": "52dfa137",
   "metadata": {},
   "outputs": [],
   "source": [
    "# convert data type Ram to a category\n",
    "data[\"ScreenResolution\"]= data[\"ScreenResolution\"].astype(\"category\")"
   ]
  },
  {
   "cell_type": "code",
   "execution_count": 36,
   "id": "e521c098",
   "metadata": {},
   "outputs": [],
   "source": [
    "# convert data type Ram to a category\n",
    "data[\"Central_processing_unit\"]= data[\"Central_processing_unit\"].astype(\"category\")"
   ]
  },
  {
   "cell_type": "code",
   "execution_count": 37,
   "id": "ba52a62b",
   "metadata": {},
   "outputs": [],
   "source": [
    "# convert data type Inches to floats\n",
    "data['Inches'] = data['Inches'].str.extract('(\\d+\\.?\\d*)').astype(float)"
   ]
  },
  {
   "cell_type": "code",
   "execution_count": 38,
   "id": "b771fe64",
   "metadata": {},
   "outputs": [
    {
     "data": {
      "text/plain": [
       "Id                           object\n",
       "Company                    category\n",
       "Laptop_type                category\n",
       "Inches                      float64\n",
       "ScreenResolution           category\n",
       "Central_processing_unit    category\n",
       "Ram                        category\n",
       "Memory                     category\n",
       "Grapics_processing_unit    category\n",
       "Operating_System           category\n",
       "Weight                       object\n",
       "Price                       float64\n",
       "dtype: object"
      ]
     },
     "execution_count": 38,
     "metadata": {},
     "output_type": "execute_result"
    }
   ],
   "source": [
    "data.dtypes"
   ]
  },
  {
   "cell_type": "markdown",
   "id": "578f19c8",
   "metadata": {},
   "source": [
    "# Analysing the Data"
   ]
  },
  {
   "cell_type": "markdown",
   "id": "005d7bb2",
   "metadata": {},
   "source": [
    "### Basic statistics of data"
   ]
  },
  {
   "cell_type": "code",
   "execution_count": 39,
   "id": "d378ee90",
   "metadata": {},
   "outputs": [
    {
     "data": {
      "text/plain": [
       "324954.72"
      ]
     },
     "execution_count": 39,
     "metadata": {},
     "output_type": "execute_result"
    }
   ],
   "source": [
    "#highest price of a computer\n",
    "data[\"Price\"].max()"
   ]
  },
  {
   "cell_type": "markdown",
   "id": "01104b34",
   "metadata": {},
   "source": [
    "#### The highest price of a computer is 324,954.72 INR"
   ]
  },
  {
   "cell_type": "code",
   "execution_count": 40,
   "id": "bffdea6e",
   "metadata": {},
   "outputs": [
    {
     "data": {
      "text/plain": [
       "9270.72"
      ]
     },
     "execution_count": 40,
     "metadata": {},
     "output_type": "execute_result"
    }
   ],
   "source": [
    "#lowest price of a computer\n",
    "data[\"Price\"].min()"
   ]
  },
  {
   "cell_type": "markdown",
   "id": "30071dc1",
   "metadata": {},
   "source": [
    "#### The lowest price of a computer is 9,270.72 INR"
   ]
  },
  {
   "cell_type": "code",
   "execution_count": 41,
   "id": "2a101dcb",
   "metadata": {},
   "outputs": [
    {
     "data": {
      "text/plain": [
       "59955.81407321278"
      ]
     },
     "execution_count": 41,
     "metadata": {},
     "output_type": "execute_result"
    }
   ],
   "source": [
    "#finding the average price\n",
    "data[\"Price\"].mean()"
   ]
  },
  {
   "cell_type": "markdown",
   "id": "eaa19bb5",
   "metadata": {},
   "source": [
    "#### The average price of a laptop is 59,955.81 INR"
   ]
  },
  {
   "cell_type": "code",
   "execution_count": null,
   "id": "2dd93ac2",
   "metadata": {},
   "outputs": [],
   "source": []
  },
  {
   "cell_type": "markdown",
   "id": "1949f141",
   "metadata": {},
   "source": [
    "### Performing value counts"
   ]
  },
  {
   "cell_type": "code",
   "execution_count": 42,
   "id": "14b4f707",
   "metadata": {},
   "outputs": [],
   "source": [
    "# Value count for Inches (Screen Size)\n",
    "counts = data['Inches'].value_counts()"
   ]
  },
  {
   "cell_type": "code",
   "execution_count": 43,
   "id": "6b4a1b00",
   "metadata": {},
   "outputs": [
    {
     "data": {
      "text/plain": [
       "15.6    640\n",
       "14.0    192\n",
       "17.3    162\n",
       "13.3    161\n",
       "12.5     38\n",
       "Name: Inches, dtype: int64"
      ]
     },
     "execution_count": 43,
     "metadata": {},
     "output_type": "execute_result"
    }
   ],
   "source": [
    "counts.head()"
   ]
  },
  {
   "cell_type": "markdown",
   "id": "14ab0db8",
   "metadata": {},
   "source": [
    "#### From the value count of Inches, 15.6 Inches is the most popular with a little more than half of laptops with that screen size. This is followed by 14.0 Inches, 17.3 Inches, 13.3 and 12.5 Inches. These 5 are the most popular. Only 81 laptops are in different screen sizes."
   ]
  },
  {
   "cell_type": "code",
   "execution_count": null,
   "id": "2d5c6bbe",
   "metadata": {},
   "outputs": [],
   "source": []
  },
  {
   "cell_type": "code",
   "execution_count": 44,
   "id": "fbccae12",
   "metadata": {},
   "outputs": [],
   "source": [
    "# Value count for Inches (Screen Size)\n",
    "counts = data['Company'].value_counts()"
   ]
  },
  {
   "cell_type": "code",
   "execution_count": 45,
   "id": "fa898c3a",
   "metadata": {},
   "outputs": [
    {
     "data": {
      "text/plain": [
       "Lenovo    290\n",
       "Dell      287\n",
       "HP        266\n",
       "Asus      156\n",
       "Acer      103\n",
       "Name: Company, dtype: int64"
      ]
     },
     "execution_count": 45,
     "metadata": {},
     "output_type": "execute_result"
    }
   ],
   "source": [
    "counts.head()"
   ]
  },
  {
   "cell_type": "markdown",
   "id": "a99ddfb6",
   "metadata": {},
   "source": [
    "#### Lenovo, Dell, HP, Asus and Acer are the most popular brands in that order."
   ]
  },
  {
   "cell_type": "code",
   "execution_count": null,
   "id": "ca0e85c1",
   "metadata": {},
   "outputs": [],
   "source": []
  },
  {
   "cell_type": "code",
   "execution_count": 46,
   "id": "3ab63192",
   "metadata": {},
   "outputs": [],
   "source": [
    "# Value count for ScreenResolution \n",
    "counts = data['ScreenResolution'].value_counts()"
   ]
  },
  {
   "cell_type": "code",
   "execution_count": 47,
   "id": "89cd2c23",
   "metadata": {},
   "outputs": [
    {
     "data": {
      "text/plain": [
       "Full HD 1920x1080                            495\n",
       "1366x768                                     274\n",
       "IPS Panel Full HD 1920x1080                  226\n",
       "IPS Panel Full HD / Touchscreen 1920x1080     52\n",
       "Full HD / Touchscreen 1920x1080               45\n",
       "Name: ScreenResolution, dtype: int64"
      ]
     },
     "execution_count": 47,
     "metadata": {},
     "output_type": "execute_result"
    }
   ],
   "source": [
    "counts.head()"
   ]
  },
  {
   "cell_type": "markdown",
   "id": "2f9b2bac",
   "metadata": {},
   "source": [
    "#### The above list are the top 5 Screen Resolutions adopted by Laptop brands. Full HD 1920x1080, 1366x768                                     and IPS Panel Full HD 1920x1080 make up 78% of all laptop screen resolutions."
   ]
  },
  {
   "cell_type": "code",
   "execution_count": null,
   "id": "bafbc7d2",
   "metadata": {},
   "outputs": [],
   "source": []
  },
  {
   "cell_type": "code",
   "execution_count": 48,
   "id": "d9610a26",
   "metadata": {},
   "outputs": [],
   "source": [
    "# Value count for # Value count for Central processing unit\n",
    "counts = data['Central_processing_unit'].value_counts()"
   ]
  },
  {
   "cell_type": "code",
   "execution_count": 49,
   "id": "dac29220",
   "metadata": {},
   "outputs": [
    {
     "data": {
      "text/plain": [
       "Intel Core i5 7200U 2.5GHz     183\n",
       "Intel Core i7 7700HQ 2.8GHz    142\n",
       "Intel Core i7 7500U 2.7GHz     128\n",
       "Intel Core i7 8550U 1.8GHz      72\n",
       "Intel Core i5 8250U 1.6GHz      68\n",
       "Name: Central_processing_unit, dtype: int64"
      ]
     },
     "execution_count": 49,
     "metadata": {},
     "output_type": "execute_result"
    }
   ],
   "source": [
    "counts.head()"
   ]
  },
  {
   "cell_type": "markdown",
   "id": "ff2e963b",
   "metadata": {},
   "source": [
    "#### Intel Core i5 7200U 2.5GHz, Intel Core i7 7700HQ 2.8GHz and Intel Core i7 7500U 2.7GHz are the 3 top central processing units being used by laptop manufacturing companies."
   ]
  },
  {
   "cell_type": "code",
   "execution_count": null,
   "id": "5992b4c5",
   "metadata": {},
   "outputs": [],
   "source": []
  },
  {
   "cell_type": "code",
   "execution_count": 50,
   "id": "2affdb0e",
   "metadata": {},
   "outputs": [
    {
     "data": {
      "text/plain": [
       "256GB SSD               401\n",
       "1TB HDD                 217\n",
       "500GB HDD               130\n",
       "512GB SSD               116\n",
       "128GB SSD +  1TB HDD     92\n",
       "Name: Memory, dtype: int64"
      ]
     },
     "execution_count": 50,
     "metadata": {},
     "output_type": "execute_result"
    }
   ],
   "source": [
    "# Value count for # Value count for Memory\n",
    "counts = data['Memory'].value_counts()\n",
    "counts.head()"
   ]
  },
  {
   "cell_type": "markdown",
   "id": "37b4811e",
   "metadata": {},
   "source": [
    "#### The 256 SSD Memory is the most popular being used by 401 out of the 1274 laptops. That with the other 4 which are 1TB HDD,        500GB HDD, 512GB SSD, 128GB SSD +  1TB HDD make up 75% of all the types of memory being used."
   ]
  },
  {
   "cell_type": "code",
   "execution_count": null,
   "id": "a159f186",
   "metadata": {},
   "outputs": [],
   "source": []
  },
  {
   "cell_type": "code",
   "execution_count": 51,
   "id": "978ce3f9",
   "metadata": {},
   "outputs": [
    {
     "data": {
      "text/plain": [
       "8GB     601\n",
       "4GB     367\n",
       "16GB    194\n",
       "6GB      40\n",
       "12GB     25\n",
       "Name: Ram, dtype: int64"
      ]
     },
     "execution_count": 51,
     "metadata": {},
     "output_type": "execute_result"
    }
   ],
   "source": [
    "# Value count for # Value count for Ram\n",
    "counts = data['Ram'].value_counts()\n",
    "counts.head()"
   ]
  },
  {
   "cell_type": "markdown",
   "id": "add703a3",
   "metadata": {},
   "source": [
    "#### 8GB is the most popular Ram with 601 of the 1274 laptops having 8GB Rams. The top 3 Ram; 8GB, 4GB and 16GB make up 91% of all the Rams being used."
   ]
  },
  {
   "cell_type": "code",
   "execution_count": null,
   "id": "7515062b",
   "metadata": {},
   "outputs": [],
   "source": []
  },
  {
   "cell_type": "code",
   "execution_count": 52,
   "id": "9ec61ebd",
   "metadata": {},
   "outputs": [
    {
     "data": {
      "text/plain": [
       "Windows 10    1047\n",
       "No OS           63\n",
       "Linux           61\n",
       "Windows 7       45\n",
       "Chrome OS       27\n",
       "Name: Operating_System, dtype: int64"
      ]
     },
     "execution_count": 52,
     "metadata": {},
     "output_type": "execute_result"
    }
   ],
   "source": [
    "# Value count for # Value count for Operating_System\n",
    "counts = data['Operating_System'].value_counts()\n",
    "counts.head()"
   ]
  },
  {
   "cell_type": "markdown",
   "id": "3ca6dab8",
   "metadata": {},
   "source": [
    "#### Windows 10 is the most popular Operating System making 82% of all operating systems."
   ]
  },
  {
   "cell_type": "code",
   "execution_count": null,
   "id": "72239273",
   "metadata": {},
   "outputs": [],
   "source": []
  },
  {
   "cell_type": "code",
   "execution_count": 53,
   "id": "90604306",
   "metadata": {},
   "outputs": [
    {
     "data": {
      "text/plain": [
       "2.2kg    111\n",
       "2.1kg     57\n",
       "2.4kg     43\n",
       "2.3kg     41\n",
       "2.5kg     37\n",
       "Name: Weight, dtype: int64"
      ]
     },
     "execution_count": 53,
     "metadata": {},
     "output_type": "execute_result"
    }
   ],
   "source": [
    "# Value count for # Value count for Weight\n",
    "counts = data['Weight'].value_counts()\n",
    "counts.head()"
   ]
  },
  {
   "cell_type": "markdown",
   "id": "d956a277",
   "metadata": {},
   "source": [
    "#### The 5 topmost laptop weights are 2.2kg, 2.1kg, 2.4kg, 2.3kg and 2.5kg. Most of the weight are between 1kg and 2.5kgs."
   ]
  },
  {
   "cell_type": "code",
   "execution_count": null,
   "id": "b309f4ec",
   "metadata": {},
   "outputs": [],
   "source": []
  },
  {
   "cell_type": "markdown",
   "id": "581207b8",
   "metadata": {},
   "source": [
    "### Finding average price of laptops by various categories"
   ]
  },
  {
   "cell_type": "markdown",
   "id": "eb035baf",
   "metadata": {},
   "source": [
    "#### Average price by laptop_type"
   ]
  },
  {
   "cell_type": "code",
   "execution_count": 54,
   "id": "9e7f990d",
   "metadata": {},
   "outputs": [],
   "source": [
    "avg_price_laptop = data.groupby(['Laptop_type'])['Price'].mean()"
   ]
  },
  {
   "cell_type": "code",
   "execution_count": 55,
   "id": "0f002688",
   "metadata": {},
   "outputs": [
    {
     "data": {
      "text/plain": [
       "Laptop_type\n",
       "2 in 1 Convertible     68186.738110\n",
       "Gaming                 92204.328662\n",
       "Netbook                34884.858000\n",
       "Notebook               41545.173052\n",
       "Ultrabook              82926.038073\n",
       "Workstation           121497.525683\n",
       "Name: Price, dtype: float64"
      ]
     },
     "execution_count": 55,
     "metadata": {},
     "output_type": "execute_result"
    }
   ],
   "source": [
    "avg_price_laptop"
   ]
  },
  {
   "cell_type": "code",
   "execution_count": 56,
   "id": "f7e1b03a",
   "metadata": {},
   "outputs": [],
   "source": [
    "avg_price_laptop = avg_price_laptop.to_frame()"
   ]
  },
  {
   "cell_type": "code",
   "execution_count": 57,
   "id": "30783b2c",
   "metadata": {},
   "outputs": [],
   "source": [
    "avg_price_laptop = avg_price_laptop.sort_values(by=['Price'], ascending=False)"
   ]
  },
  {
   "cell_type": "code",
   "execution_count": 58,
   "id": "06e68b41",
   "metadata": {
    "scrolled": true
   },
   "outputs": [
    {
     "data": {
      "text/html": [
       "<div>\n",
       "<style scoped>\n",
       "    .dataframe tbody tr th:only-of-type {\n",
       "        vertical-align: middle;\n",
       "    }\n",
       "\n",
       "    .dataframe tbody tr th {\n",
       "        vertical-align: top;\n",
       "    }\n",
       "\n",
       "    .dataframe thead th {\n",
       "        text-align: right;\n",
       "    }\n",
       "</style>\n",
       "<table border=\"1\" class=\"dataframe\">\n",
       "  <thead>\n",
       "    <tr style=\"text-align: right;\">\n",
       "      <th></th>\n",
       "      <th>Price</th>\n",
       "    </tr>\n",
       "    <tr>\n",
       "      <th>Laptop_type</th>\n",
       "      <th></th>\n",
       "    </tr>\n",
       "  </thead>\n",
       "  <tbody>\n",
       "    <tr>\n",
       "      <th>Workstation</th>\n",
       "      <td>121497.525683</td>\n",
       "    </tr>\n",
       "    <tr>\n",
       "      <th>Gaming</th>\n",
       "      <td>92204.328662</td>\n",
       "    </tr>\n",
       "    <tr>\n",
       "      <th>Ultrabook</th>\n",
       "      <td>82926.038073</td>\n",
       "    </tr>\n",
       "    <tr>\n",
       "      <th>2 in 1 Convertible</th>\n",
       "      <td>68186.738110</td>\n",
       "    </tr>\n",
       "    <tr>\n",
       "      <th>Notebook</th>\n",
       "      <td>41545.173052</td>\n",
       "    </tr>\n",
       "    <tr>\n",
       "      <th>Netbook</th>\n",
       "      <td>34884.858000</td>\n",
       "    </tr>\n",
       "  </tbody>\n",
       "</table>\n",
       "</div>"
      ],
      "text/plain": [
       "                            Price\n",
       "Laptop_type                      \n",
       "Workstation         121497.525683\n",
       "Gaming               92204.328662\n",
       "Ultrabook            82926.038073\n",
       "2 in 1 Convertible   68186.738110\n",
       "Notebook             41545.173052\n",
       "Netbook              34884.858000"
      ]
     },
     "execution_count": 58,
     "metadata": {},
     "output_type": "execute_result"
    }
   ],
   "source": [
    "avg_price_laptop"
   ]
  },
  {
   "cell_type": "code",
   "execution_count": 59,
   "id": "f27c1741",
   "metadata": {},
   "outputs": [
    {
     "data": {
      "text/plain": [
       "CategoricalIndex(['Workstation', 'Gaming', 'Ultrabook', '2 in 1 Convertible',\n",
       "                  'Notebook', 'Netbook'],\n",
       "                 categories=['2 in 1 Convertible', 'Gaming', 'Netbook', 'Notebook', 'Ultrabook', 'Workstation'], ordered=False, dtype='category', name='Laptop_type')"
      ]
     },
     "execution_count": 59,
     "metadata": {},
     "output_type": "execute_result"
    }
   ],
   "source": [
    "avg_price_laptop.index"
   ]
  },
  {
   "cell_type": "code",
   "execution_count": 60,
   "id": "664b0200",
   "metadata": {},
   "outputs": [
    {
     "data": {
      "image/png": "[encoded data removed]",
      "text/plain": [
       "<Figure size 640x480 with 1 Axes>"
      ]
     },
     "metadata": {},
     "output_type": "display_data"
    }
   ],
   "source": [
    "plt.barh(avg_price_laptop.index, avg_price_laptop[\"Price\"])\n",
    "plt.title(\"Average Price per Laptop_type\")\n",
    "plt.xlabel(\"Average Price\")\n",
    "plt.ylabel(\"Laptop_type\")\n",
    "plt.show()"
   ]
  },
  {
   "cell_type": "markdown",
   "id": "1e88edcf",
   "metadata": {},
   "source": [
    "##### From the Bar Chart above, Workstations have the highest average price of 121,497.53 INR  . That is followed by Gaming and Ultrabook. Netbooks have the lowest average price."
   ]
  },
  {
   "cell_type": "code",
   "execution_count": null,
   "id": "df9edd6f",
   "metadata": {},
   "outputs": [],
   "source": []
  },
  {
   "cell_type": "markdown",
   "id": "6cdb4368",
   "metadata": {},
   "source": [
    "### Average Price by Company"
   ]
  },
  {
   "cell_type": "code",
   "execution_count": 61,
   "id": "374c85b1",
   "metadata": {},
   "outputs": [],
   "source": [
    "avg_price_company = data.groupby(['Company'])['Price'].mean()"
   ]
  },
  {
   "cell_type": "code",
   "execution_count": 62,
   "id": "ec0fd504",
   "metadata": {},
   "outputs": [
    {
     "data": {
      "text/plain": [
       "Company\n",
       "Acer          33394.615969\n",
       "Apple         83340.499886\n",
       "Asus          58972.373723\n",
       "Chuwi         16745.726400\n",
       "Dell          63237.061079\n",
       "Fujitsu       38574.720000\n",
       "Google        89386.080000\n",
       "HP            57214.371465\n",
       "Huawei        75870.720000\n",
       "LG           111834.720000\n",
       "Lenovo        58072.477208\n",
       "MSI           91814.548891\n",
       "Mediacom      15717.600000\n",
       "Microsoft     85903.788000\n",
       "Razer        178282.491429\n",
       "Samsung       75308.320000\n",
       "Toshiba       66747.370213\n",
       "Vero          11584.404000\n",
       "Xiaomi        60390.882000\n",
       "Name: Price, dtype: float64"
      ]
     },
     "execution_count": 62,
     "metadata": {},
     "output_type": "execute_result"
    }
   ],
   "source": [
    "avg_price_company"
   ]
  },
  {
   "cell_type": "code",
   "execution_count": 63,
   "id": "8ac0cba4",
   "metadata": {},
   "outputs": [],
   "source": [
    "avg_price_company = avg_price_company.to_frame()"
   ]
  },
  {
   "cell_type": "code",
   "execution_count": 64,
   "id": "1363130b",
   "metadata": {},
   "outputs": [],
   "source": [
    "avg_price_company = avg_price_company.sort_values(by=['Price'], ascending=False)"
   ]
  },
  {
   "cell_type": "code",
   "execution_count": 65,
   "id": "37259f94",
   "metadata": {},
   "outputs": [
    {
     "data": {
      "text/html": [
       "<div>\n",
       "<style scoped>\n",
       "    .dataframe tbody tr th:only-of-type {\n",
       "        vertical-align: middle;\n",
       "    }\n",
       "\n",
       "    .dataframe tbody tr th {\n",
       "        vertical-align: top;\n",
       "    }\n",
       "\n",
       "    .dataframe thead th {\n",
       "        text-align: right;\n",
       "    }\n",
       "</style>\n",
       "<table border=\"1\" class=\"dataframe\">\n",
       "  <thead>\n",
       "    <tr style=\"text-align: right;\">\n",
       "      <th></th>\n",
       "      <th>Price</th>\n",
       "    </tr>\n",
       "    <tr>\n",
       "      <th>Company</th>\n",
       "      <th></th>\n",
       "    </tr>\n",
       "  </thead>\n",
       "  <tbody>\n",
       "    <tr>\n",
       "      <th>Razer</th>\n",
       "      <td>178282.491429</td>\n",
       "    </tr>\n",
       "    <tr>\n",
       "      <th>LG</th>\n",
       "      <td>111834.720000</td>\n",
       "    </tr>\n",
       "    <tr>\n",
       "      <th>MSI</th>\n",
       "      <td>91814.548891</td>\n",
       "    </tr>\n",
       "    <tr>\n",
       "      <th>Google</th>\n",
       "      <td>89386.080000</td>\n",
       "    </tr>\n",
       "    <tr>\n",
       "      <th>Microsoft</th>\n",
       "      <td>85903.788000</td>\n",
       "    </tr>\n",
       "    <tr>\n",
       "      <th>Apple</th>\n",
       "      <td>83340.499886</td>\n",
       "    </tr>\n",
       "    <tr>\n",
       "      <th>Huawei</th>\n",
       "      <td>75870.720000</td>\n",
       "    </tr>\n",
       "    <tr>\n",
       "      <th>Samsung</th>\n",
       "      <td>75308.320000</td>\n",
       "    </tr>\n",
       "    <tr>\n",
       "      <th>Toshiba</th>\n",
       "      <td>66747.370213</td>\n",
       "    </tr>\n",
       "    <tr>\n",
       "      <th>Dell</th>\n",
       "      <td>63237.061079</td>\n",
       "    </tr>\n",
       "    <tr>\n",
       "      <th>Xiaomi</th>\n",
       "      <td>60390.882000</td>\n",
       "    </tr>\n",
       "    <tr>\n",
       "      <th>Asus</th>\n",
       "      <td>58972.373723</td>\n",
       "    </tr>\n",
       "    <tr>\n",
       "      <th>Lenovo</th>\n",
       "      <td>58072.477208</td>\n",
       "    </tr>\n",
       "    <tr>\n",
       "      <th>HP</th>\n",
       "      <td>57214.371465</td>\n",
       "    </tr>\n",
       "    <tr>\n",
       "      <th>Fujitsu</th>\n",
       "      <td>38574.720000</td>\n",
       "    </tr>\n",
       "    <tr>\n",
       "      <th>Acer</th>\n",
       "      <td>33394.615969</td>\n",
       "    </tr>\n",
       "    <tr>\n",
       "      <th>Chuwi</th>\n",
       "      <td>16745.726400</td>\n",
       "    </tr>\n",
       "    <tr>\n",
       "      <th>Mediacom</th>\n",
       "      <td>15717.600000</td>\n",
       "    </tr>\n",
       "    <tr>\n",
       "      <th>Vero</th>\n",
       "      <td>11584.404000</td>\n",
       "    </tr>\n",
       "  </tbody>\n",
       "</table>\n",
       "</div>"
      ],
      "text/plain": [
       "                   Price\n",
       "Company                 \n",
       "Razer      178282.491429\n",
       "LG         111834.720000\n",
       "MSI         91814.548891\n",
       "Google      89386.080000\n",
       "Microsoft   85903.788000\n",
       "Apple       83340.499886\n",
       "Huawei      75870.720000\n",
       "Samsung     75308.320000\n",
       "Toshiba     66747.370213\n",
       "Dell        63237.061079\n",
       "Xiaomi      60390.882000\n",
       "Asus        58972.373723\n",
       "Lenovo      58072.477208\n",
       "HP          57214.371465\n",
       "Fujitsu     38574.720000\n",
       "Acer        33394.615969\n",
       "Chuwi       16745.726400\n",
       "Mediacom    15717.600000\n",
       "Vero        11584.404000"
      ]
     },
     "execution_count": 65,
     "metadata": {},
     "output_type": "execute_result"
    }
   ],
   "source": [
    "avg_price_company"
   ]
  },
  {
   "cell_type": "code",
   "execution_count": 66,
   "id": "1e4ec5a1",
   "metadata": {},
   "outputs": [
    {
     "data": {
      "text/plain": [
       "CategoricalIndex(['Razer', 'LG', 'MSI', 'Google', 'Microsoft', 'Apple',\n",
       "                  'Huawei', 'Samsung', 'Toshiba', 'Dell', 'Xiaomi', 'Asus',\n",
       "                  'Lenovo', 'HP', 'Fujitsu', 'Acer', 'Chuwi', 'Mediacom',\n",
       "                  'Vero'],\n",
       "                 categories=['Acer', 'Apple', 'Asus', 'Chuwi', 'Dell', 'Fujitsu', 'Google', 'HP', ...], ordered=False, dtype='category', name='Company')"
      ]
     },
     "execution_count": 66,
     "metadata": {},
     "output_type": "execute_result"
    }
   ],
   "source": [
    "avg_price_company.index"
   ]
  },
  {
   "cell_type": "code",
   "execution_count": 67,
   "id": "5a892674",
   "metadata": {
    "scrolled": false
   },
   "outputs": [
    {
     "data": {
      "image/png": "[encoded data removed]",
      "text/plain": [
       "<Figure size 640x480 with 1 Axes>"
      ]
     },
     "metadata": {},
     "output_type": "display_data"
    }
   ],
   "source": [
    "plt.barh(avg_price_company.index, avg_price_company[\"Price\"])\n",
    "plt.title(\"Average Price per Company\")\n",
    "plt.xlabel(\"Average Price\")\n",
    "plt.ylabel(\"Company\")\n",
    "plt.show()"
   ]
  },
  {
   "cell_type": "markdown",
   "id": "13cc438c",
   "metadata": {},
   "source": [
    "### Based on the 'Top Companies by Price' charts above, the top 3 Companies with highest average prices of laptops are Razer, LG and MSI. The Companies at the bottom of the list on average prices are Vero, Mediacom and Chuwi. The brands in the middle "
   ]
  },
  {
   "cell_type": "code",
   "execution_count": null,
   "id": "45378c45",
   "metadata": {},
   "outputs": [],
   "source": []
  },
  {
   "cell_type": "markdown",
   "id": "f0f1c24a",
   "metadata": {},
   "source": [
    "### Average price by Operating System"
   ]
  },
  {
   "cell_type": "code",
   "execution_count": 68,
   "id": "f607ed2f",
   "metadata": {},
   "outputs": [],
   "source": [
    "avg_price_opsys = data.groupby(['Operating_System'])['Price'].mean()"
   ]
  },
  {
   "cell_type": "code",
   "execution_count": 69,
   "id": "1247b362",
   "metadata": {},
   "outputs": [
    {
     "data": {
      "text/plain": [
       "Operating_System\n",
       "Android         29250.720000\n",
       "Chrome OS       29495.018667\n",
       "Linux           32919.414846\n",
       "Mac OS X        67285.780200\n",
       "No OS           31892.934400\n",
       "Windows 10      62214.308452\n",
       "Windows 10 S    68543.654400\n",
       "Windows 7       89864.783040\n",
       "macOS           93220.327385\n",
       "Name: Price, dtype: float64"
      ]
     },
     "execution_count": 69,
     "metadata": {},
     "output_type": "execute_result"
    }
   ],
   "source": [
    "avg_price_opsys"
   ]
  },
  {
   "cell_type": "code",
   "execution_count": 70,
   "id": "cdb510d3",
   "metadata": {},
   "outputs": [],
   "source": [
    "avg_price_opsys = avg_price_opsys.to_frame()"
   ]
  },
  {
   "cell_type": "code",
   "execution_count": 71,
   "id": "1f6abbb8",
   "metadata": {},
   "outputs": [],
   "source": [
    "avg_price_opsys = avg_price_opsys.sort_values(by=['Price'], ascending=False)"
   ]
  },
  {
   "cell_type": "code",
   "execution_count": 72,
   "id": "9ff0adda",
   "metadata": {},
   "outputs": [
    {
     "data": {
      "text/html": [
       "<div>\n",
       "<style scoped>\n",
       "    .dataframe tbody tr th:only-of-type {\n",
       "        vertical-align: middle;\n",
       "    }\n",
       "\n",
       "    .dataframe tbody tr th {\n",
       "        vertical-align: top;\n",
       "    }\n",
       "\n",
       "    .dataframe thead th {\n",
       "        text-align: right;\n",
       "    }\n",
       "</style>\n",
       "<table border=\"1\" class=\"dataframe\">\n",
       "  <thead>\n",
       "    <tr style=\"text-align: right;\">\n",
       "      <th></th>\n",
       "      <th>Price</th>\n",
       "    </tr>\n",
       "    <tr>\n",
       "      <th>Operating_System</th>\n",
       "      <th></th>\n",
       "    </tr>\n",
       "  </thead>\n",
       "  <tbody>\n",
       "    <tr>\n",
       "      <th>macOS</th>\n",
       "      <td>93220.327385</td>\n",
       "    </tr>\n",
       "    <tr>\n",
       "      <th>Windows 7</th>\n",
       "      <td>89864.783040</td>\n",
       "    </tr>\n",
       "    <tr>\n",
       "      <th>Windows 10 S</th>\n",
       "      <td>68543.654400</td>\n",
       "    </tr>\n",
       "    <tr>\n",
       "      <th>Mac OS X</th>\n",
       "      <td>67285.780200</td>\n",
       "    </tr>\n",
       "    <tr>\n",
       "      <th>Windows 10</th>\n",
       "      <td>62214.308452</td>\n",
       "    </tr>\n",
       "    <tr>\n",
       "      <th>Linux</th>\n",
       "      <td>32919.414846</td>\n",
       "    </tr>\n",
       "    <tr>\n",
       "      <th>No OS</th>\n",
       "      <td>31892.934400</td>\n",
       "    </tr>\n",
       "    <tr>\n",
       "      <th>Chrome OS</th>\n",
       "      <td>29495.018667</td>\n",
       "    </tr>\n",
       "    <tr>\n",
       "      <th>Android</th>\n",
       "      <td>29250.720000</td>\n",
       "    </tr>\n",
       "  </tbody>\n",
       "</table>\n",
       "</div>"
      ],
      "text/plain": [
       "                         Price\n",
       "Operating_System              \n",
       "macOS             93220.327385\n",
       "Windows 7         89864.783040\n",
       "Windows 10 S      68543.654400\n",
       "Mac OS X          67285.780200\n",
       "Windows 10        62214.308452\n",
       "Linux             32919.414846\n",
       "No OS             31892.934400\n",
       "Chrome OS         29495.018667\n",
       "Android           29250.720000"
      ]
     },
     "execution_count": 72,
     "metadata": {},
     "output_type": "execute_result"
    }
   ],
   "source": [
    "avg_price_opsys"
   ]
  },
  {
   "cell_type": "code",
   "execution_count": 73,
   "id": "f8bc658c",
   "metadata": {},
   "outputs": [
    {
     "data": {
      "text/plain": [
       "CategoricalIndex(['macOS', 'Windows 7', 'Windows 10 S', 'Mac OS X',\n",
       "                  'Windows 10', 'Linux', 'No OS', 'Chrome OS', 'Android'],\n",
       "                 categories=['Android', 'Chrome OS', 'Linux', 'Mac OS X', 'No OS', 'Windows 10', 'Windows 10 S', 'Windows 7', ...], ordered=False, dtype='category', name='Operating_System')"
      ]
     },
     "execution_count": 73,
     "metadata": {},
     "output_type": "execute_result"
    }
   ],
   "source": [
    "avg_price_opsys.index"
   ]
  },
  {
   "cell_type": "code",
   "execution_count": 74,
   "id": "e1d97575",
   "metadata": {},
   "outputs": [
    {
     "data": {
      "image/png": "[encoded data removed]",
      "text/plain": [
       "<Figure size 640x480 with 1 Axes>"
      ]
     },
     "metadata": {},
     "output_type": "display_data"
    }
   ],
   "source": [
    "plt.barh(avg_price_opsys.index, avg_price_opsys[\"Price\"])\n",
    "plt.title(\"Average Price per Operating System\")\n",
    "plt.xlabel(\"Average Price\")\n",
    "plt.ylabel(\"Operating_System\")\n",
    "plt.show()"
   ]
  },
  {
   "cell_type": "markdown",
   "id": "2ab8d945",
   "metadata": {},
   "source": [
    "#### The chart above shows that macOS has the highest average price followed by Windows 7 and Windows 10 S in that order. Android and Chrome OS have the lowest average prices."
   ]
  },
  {
   "cell_type": "code",
   "execution_count": null,
   "id": "1ccd52df",
   "metadata": {},
   "outputs": [],
   "source": []
  },
  {
   "cell_type": "markdown",
   "id": "3f94184b",
   "metadata": {},
   "source": [
    "### Average Price by Ram"
   ]
  },
  {
   "cell_type": "code",
   "execution_count": 75,
   "id": "2b58a5d5",
   "metadata": {},
   "outputs": [],
   "source": [
    "avg_price_ram = data.groupby(['Ram'])['Price'].mean()"
   ]
  },
  {
   "cell_type": "code",
   "execution_count": 76,
   "id": "5c695582",
   "metadata": {},
   "outputs": [
    {
     "data": {
      "text/plain": [
       "Ram\n",
       "12GB     66037.277952\n",
       "16GB    103158.266994\n",
       "1GB      53226.720000\n",
       "24GB    117553.440000\n",
       "2GB      14756.743636\n",
       "32GB    181849.215812\n",
       "4GB      30552.912235\n",
       "64GB    117511.526400\n",
       "6GB      32826.420720\n",
       "8GB      63160.787525\n",
       "Name: Price, dtype: float64"
      ]
     },
     "execution_count": 76,
     "metadata": {},
     "output_type": "execute_result"
    }
   ],
   "source": [
    "avg_price_ram"
   ]
  },
  {
   "cell_type": "code",
   "execution_count": 77,
   "id": "0756f3aa",
   "metadata": {},
   "outputs": [],
   "source": [
    "avg_price_ram = avg_price_ram.to_frame()"
   ]
  },
  {
   "cell_type": "code",
   "execution_count": 78,
   "id": "502b22d1",
   "metadata": {},
   "outputs": [],
   "source": [
    "avg_price_ram = avg_price_ram.sort_values(by=['Price'], ascending=False)"
   ]
  },
  {
   "cell_type": "code",
   "execution_count": 79,
   "id": "87212395",
   "metadata": {},
   "outputs": [
    {
     "data": {
      "text/html": [
       "<div>\n",
       "<style scoped>\n",
       "    .dataframe tbody tr th:only-of-type {\n",
       "        vertical-align: middle;\n",
       "    }\n",
       "\n",
       "    .dataframe tbody tr th {\n",
       "        vertical-align: top;\n",
       "    }\n",
       "\n",
       "    .dataframe thead th {\n",
       "        text-align: right;\n",
       "    }\n",
       "</style>\n",
       "<table border=\"1\" class=\"dataframe\">\n",
       "  <thead>\n",
       "    <tr style=\"text-align: right;\">\n",
       "      <th></th>\n",
       "      <th>Price</th>\n",
       "    </tr>\n",
       "    <tr>\n",
       "      <th>Ram</th>\n",
       "      <th></th>\n",
       "    </tr>\n",
       "  </thead>\n",
       "  <tbody>\n",
       "    <tr>\n",
       "      <th>32GB</th>\n",
       "      <td>181849.215812</td>\n",
       "    </tr>\n",
       "    <tr>\n",
       "      <th>24GB</th>\n",
       "      <td>117553.440000</td>\n",
       "    </tr>\n",
       "    <tr>\n",
       "      <th>64GB</th>\n",
       "      <td>117511.526400</td>\n",
       "    </tr>\n",
       "    <tr>\n",
       "      <th>16GB</th>\n",
       "      <td>103158.266994</td>\n",
       "    </tr>\n",
       "    <tr>\n",
       "      <th>12GB</th>\n",
       "      <td>66037.277952</td>\n",
       "    </tr>\n",
       "    <tr>\n",
       "      <th>8GB</th>\n",
       "      <td>63160.787525</td>\n",
       "    </tr>\n",
       "    <tr>\n",
       "      <th>1GB</th>\n",
       "      <td>53226.720000</td>\n",
       "    </tr>\n",
       "    <tr>\n",
       "      <th>6GB</th>\n",
       "      <td>32826.420720</td>\n",
       "    </tr>\n",
       "    <tr>\n",
       "      <th>4GB</th>\n",
       "      <td>30552.912235</td>\n",
       "    </tr>\n",
       "    <tr>\n",
       "      <th>2GB</th>\n",
       "      <td>14756.743636</td>\n",
       "    </tr>\n",
       "  </tbody>\n",
       "</table>\n",
       "</div>"
      ],
      "text/plain": [
       "              Price\n",
       "Ram                \n",
       "32GB  181849.215812\n",
       "24GB  117553.440000\n",
       "64GB  117511.526400\n",
       "16GB  103158.266994\n",
       "12GB   66037.277952\n",
       "8GB    63160.787525\n",
       "1GB    53226.720000\n",
       "6GB    32826.420720\n",
       "4GB    30552.912235\n",
       "2GB    14756.743636"
      ]
     },
     "execution_count": 79,
     "metadata": {},
     "output_type": "execute_result"
    }
   ],
   "source": [
    "avg_price_ram"
   ]
  },
  {
   "cell_type": "code",
   "execution_count": 80,
   "id": "8ef0cc9c",
   "metadata": {},
   "outputs": [
    {
     "data": {
      "text/plain": [
       "CategoricalIndex(['32GB', '24GB', '64GB', '16GB', '12GB', '8GB', '1GB', '6GB',\n",
       "                  '4GB', '2GB'],\n",
       "                 categories=['12GB', '16GB', '1GB', '24GB', '2GB', '32GB', '4GB', '64GB', ...], ordered=False, dtype='category', name='Ram')"
      ]
     },
     "execution_count": 80,
     "metadata": {},
     "output_type": "execute_result"
    }
   ],
   "source": [
    "avg_price_ram.index"
   ]
  },
  {
   "cell_type": "code",
   "execution_count": 81,
   "id": "9b846137",
   "metadata": {},
   "outputs": [
    {
     "data": {
      "image/png": "[encoded data removed]",
      "text/plain": [
       "<Figure size 640x480 with 1 Axes>"
      ]
     },
     "metadata": {},
     "output_type": "display_data"
    }
   ],
   "source": [
    "plt.barh(avg_price_ram.index, avg_price_ram[\"Price\"])\n",
    "plt.title(\"Average Price per Ram\")\n",
    "plt.xlabel(\"Average Price\")\n",
    "plt.ylabel(\"Ram\")\n",
    "plt.show()"
   ]
  },
  {
   "cell_type": "markdown",
   "id": "9c30a05a",
   "metadata": {},
   "source": [
    "### From the chart above, computers with 32GB Rams have the highest average price. It is followed by the 24GB and the 64GB with the same average prices. The bottom 3 are the 2GB, 4GB and the 6GB computers."
   ]
  },
  {
   "cell_type": "code",
   "execution_count": null,
   "id": "e9eb7ccf",
   "metadata": {},
   "outputs": [],
   "source": []
  },
  {
   "cell_type": "code",
   "execution_count": 82,
   "id": "662e6a88",
   "metadata": {},
   "outputs": [],
   "source": [
    "grouped = data.groupby(['Company', 'Laptop_type'])['Inches'].mean()"
   ]
  },
  {
   "cell_type": "code",
   "execution_count": 83,
   "id": "4a5365f1",
   "metadata": {},
   "outputs": [
    {
     "data": {
      "text/plain": [
       "Company  Laptop_type       \n",
       "Acer     2 in 1 Convertible    12.750000\n",
       "         Gaming                16.237500\n",
       "         Netbook               11.600000\n",
       "         Notebook              15.465385\n",
       "         Ultrabook             13.825000\n",
       "                                 ...    \n",
       "Xiaomi   Gaming                      NaN\n",
       "         Netbook                     NaN\n",
       "         Notebook              15.600000\n",
       "         Ultrabook             13.300000\n",
       "         Workstation                 NaN\n",
       "Name: Inches, Length: 114, dtype: float64"
      ]
     },
     "execution_count": 83,
     "metadata": {},
     "output_type": "execute_result"
    }
   ],
   "source": [
    "grouped"
   ]
  },
  {
   "cell_type": "markdown",
   "id": "7dd75199",
   "metadata": {},
   "source": [
    "## ANALYSING THE CORRELATION OF OUR DATA"
   ]
  },
  {
   "cell_type": "code",
   "execution_count": 84,
   "id": "54919ac1",
   "metadata": {
    "scrolled": true
   },
   "outputs": [
    {
     "data": {
      "text/html": [
       "<div>\n",
       "<style scoped>\n",
       "    .dataframe tbody tr th:only-of-type {\n",
       "        vertical-align: middle;\n",
       "    }\n",
       "\n",
       "    .dataframe tbody tr th {\n",
       "        vertical-align: top;\n",
       "    }\n",
       "\n",
       "    .dataframe thead th {\n",
       "        text-align: right;\n",
       "    }\n",
       "</style>\n",
       "<table border=\"1\" class=\"dataframe\">\n",
       "  <thead>\n",
       "    <tr style=\"text-align: right;\">\n",
       "      <th></th>\n",
       "      <th>Id</th>\n",
       "      <th>Company</th>\n",
       "      <th>Laptop_type</th>\n",
       "      <th>Inches</th>\n",
       "      <th>ScreenResolution</th>\n",
       "      <th>Central_processing_unit</th>\n",
       "      <th>Ram</th>\n",
       "      <th>Memory</th>\n",
       "      <th>Grapics_processing_unit</th>\n",
       "      <th>Operating_System</th>\n",
       "      <th>Weight</th>\n",
       "      <th>Price</th>\n",
       "    </tr>\n",
       "  </thead>\n",
       "  <tbody>\n",
       "    <tr>\n",
       "      <th>0</th>\n",
       "      <td>0.0</td>\n",
       "      <td>Apple</td>\n",
       "      <td>Ultrabook</td>\n",
       "      <td>13.3</td>\n",
       "      <td>IPS Panel Retina Display 2560x1600</td>\n",
       "      <td>Intel Core i5 2.3GHz</td>\n",
       "      <td>8GB</td>\n",
       "      <td>128GB SSD</td>\n",
       "      <td>Intel Iris Plus Graphics 640</td>\n",
       "      <td>macOS</td>\n",
       "      <td>1.37kg</td>\n",
       "      <td>71378.6832</td>\n",
       "    </tr>\n",
       "    <tr>\n",
       "      <th>1</th>\n",
       "      <td>1.0</td>\n",
       "      <td>Apple</td>\n",
       "      <td>Ultrabook</td>\n",
       "      <td>13.3</td>\n",
       "      <td>1440x900</td>\n",
       "      <td>Intel Core i5 1.8GHz</td>\n",
       "      <td>8GB</td>\n",
       "      <td>128GB Flash Storage</td>\n",
       "      <td>Intel HD Graphics 6000</td>\n",
       "      <td>macOS</td>\n",
       "      <td>1.34kg</td>\n",
       "      <td>47895.5232</td>\n",
       "    </tr>\n",
       "    <tr>\n",
       "      <th>2</th>\n",
       "      <td>2.0</td>\n",
       "      <td>HP</td>\n",
       "      <td>Notebook</td>\n",
       "      <td>15.6</td>\n",
       "      <td>Full HD 1920x1080</td>\n",
       "      <td>Intel Core i5 7200U 2.5GHz</td>\n",
       "      <td>8GB</td>\n",
       "      <td>256GB SSD</td>\n",
       "      <td>Intel HD Graphics 620</td>\n",
       "      <td>No OS</td>\n",
       "      <td>1.86kg</td>\n",
       "      <td>30636.0000</td>\n",
       "    </tr>\n",
       "    <tr>\n",
       "      <th>3</th>\n",
       "      <td>3.0</td>\n",
       "      <td>Apple</td>\n",
       "      <td>Ultrabook</td>\n",
       "      <td>15.4</td>\n",
       "      <td>IPS Panel Retina Display 2880x1800</td>\n",
       "      <td>Intel Core i7 2.7GHz</td>\n",
       "      <td>16GB</td>\n",
       "      <td>512GB SSD</td>\n",
       "      <td>AMD Radeon Pro 455</td>\n",
       "      <td>macOS</td>\n",
       "      <td>1.83kg</td>\n",
       "      <td>135195.3360</td>\n",
       "    </tr>\n",
       "    <tr>\n",
       "      <th>4</th>\n",
       "      <td>4.0</td>\n",
       "      <td>Apple</td>\n",
       "      <td>Ultrabook</td>\n",
       "      <td>13.3</td>\n",
       "      <td>IPS Panel Retina Display 2560x1600</td>\n",
       "      <td>Intel Core i5 3.1GHz</td>\n",
       "      <td>8GB</td>\n",
       "      <td>256GB SSD</td>\n",
       "      <td>Intel Iris Plus Graphics 650</td>\n",
       "      <td>macOS</td>\n",
       "      <td>1.37kg</td>\n",
       "      <td>96095.8080</td>\n",
       "    </tr>\n",
       "  </tbody>\n",
       "</table>\n",
       "</div>"
      ],
      "text/plain": [
       "    Id Company Laptop_type  Inches                    ScreenResolution  \\\n",
       "0  0.0   Apple   Ultrabook    13.3  IPS Panel Retina Display 2560x1600   \n",
       "1  1.0   Apple   Ultrabook    13.3                            1440x900   \n",
       "2  2.0      HP    Notebook    15.6                   Full HD 1920x1080   \n",
       "3  3.0   Apple   Ultrabook    15.4  IPS Panel Retina Display 2880x1800   \n",
       "4  4.0   Apple   Ultrabook    13.3  IPS Panel Retina Display 2560x1600   \n",
       "\n",
       "      Central_processing_unit   Ram               Memory  \\\n",
       "0        Intel Core i5 2.3GHz   8GB            128GB SSD   \n",
       "1        Intel Core i5 1.8GHz   8GB  128GB Flash Storage   \n",
       "2  Intel Core i5 7200U 2.5GHz   8GB            256GB SSD   \n",
       "3        Intel Core i7 2.7GHz  16GB            512GB SSD   \n",
       "4        Intel Core i5 3.1GHz   8GB            256GB SSD   \n",
       "\n",
       "        Grapics_processing_unit Operating_System  Weight        Price  \n",
       "0  Intel Iris Plus Graphics 640            macOS  1.37kg   71378.6832  \n",
       "1        Intel HD Graphics 6000            macOS  1.34kg   47895.5232  \n",
       "2         Intel HD Graphics 620            No OS  1.86kg   30636.0000  \n",
       "3            AMD Radeon Pro 455            macOS  1.83kg  135195.3360  \n",
       "4  Intel Iris Plus Graphics 650            macOS  1.37kg   96095.8080  "
      ]
     },
     "execution_count": 84,
     "metadata": {},
     "output_type": "execute_result"
    }
   ],
   "source": [
    "data.head()"
   ]
  },
  {
   "cell_type": "code",
   "execution_count": null,
   "id": "3ccc43ad",
   "metadata": {},
   "outputs": [],
   "source": []
  },
  {
   "cell_type": "markdown",
   "id": "6fd18877",
   "metadata": {},
   "source": [
    "### Analysing the correlation and relationship between Inches and Price"
   ]
  },
  {
   "cell_type": "code",
   "execution_count": 85,
   "id": "80dd6b23",
   "metadata": {},
   "outputs": [
    {
     "data": {
      "text/html": [
       "<div>\n",
       "<style scoped>\n",
       "    .dataframe tbody tr th:only-of-type {\n",
       "        vertical-align: middle;\n",
       "    }\n",
       "\n",
       "    .dataframe tbody tr th {\n",
       "        vertical-align: top;\n",
       "    }\n",
       "\n",
       "    .dataframe thead th {\n",
       "        text-align: right;\n",
       "    }\n",
       "</style>\n",
       "<table border=\"1\" class=\"dataframe\">\n",
       "  <thead>\n",
       "    <tr style=\"text-align: right;\">\n",
       "      <th></th>\n",
       "      <th>Inches</th>\n",
       "      <th>Price</th>\n",
       "    </tr>\n",
       "  </thead>\n",
       "  <tbody>\n",
       "    <tr>\n",
       "      <th>Inches</th>\n",
       "      <td>1.000000</td>\n",
       "      <td>0.044681</td>\n",
       "    </tr>\n",
       "    <tr>\n",
       "      <th>Price</th>\n",
       "      <td>0.044681</td>\n",
       "      <td>1.000000</td>\n",
       "    </tr>\n",
       "  </tbody>\n",
       "</table>\n",
       "</div>"
      ],
      "text/plain": [
       "          Inches     Price\n",
       "Inches  1.000000  0.044681\n",
       "Price   0.044681  1.000000"
      ]
     },
     "execution_count": 85,
     "metadata": {},
     "output_type": "execute_result"
    }
   ],
   "source": [
    "corr = data.corr()\n",
    "corr"
   ]
  },
  {
   "cell_type": "code",
   "execution_count": 86,
   "id": "486ef8a6",
   "metadata": {},
   "outputs": [
    {
     "data": {
      "image/png": "[encoded data removed]",
      "text/plain": [
       "<Figure size 640x480 with 1 Axes>"
      ]
     },
     "metadata": {},
     "output_type": "display_data"
    }
   ],
   "source": [
    "plt.scatter(data['Inches'], data['Price'])\n",
    "plt.xlabel('Inches')\n",
    "plt.ylabel('Price')\n",
    "plt.show()"
   ]
  },
  {
   "cell_type": "markdown",
   "id": "3ce0802a",
   "metadata": {},
   "source": [
    "##### From the scaterplot, it is realised that there is positive relationship between price and the screen size (inches). And there are some outliers within the screen sizes. \n",
    "##### There is a very weak correlation between price and screen size."
   ]
  },
  {
   "cell_type": "code",
   "execution_count": null,
   "id": "1f8ee77e",
   "metadata": {},
   "outputs": [],
   "source": []
  },
  {
   "cell_type": "markdown",
   "id": "5cbd01ee",
   "metadata": {},
   "source": [
    "# Summary and Recommendations \n",
    "\n"
   ]
  },
  {
   "cell_type": "markdown",
   "id": "e2e302bc",
   "metadata": {},
   "source": [
    "### Basic Statistics\n",
    "* The highest price of a computer is 324,954.72 INR\n",
    "* The lowest price of a computer is 9,270.72 INR\n",
    "* The average price of a laptop is 59,955.81 INR"
   ]
  },
  {
   "cell_type": "markdown",
   "id": "79656eab",
   "metadata": {},
   "source": [
    "### Most popular configurations and brands\n",
    "* Screen Size(Inches): Screen size of 15.6 Inches is the most popular. This is followed by 14.0 Inches, 17.3 Inches, 13.3 and 12.5 Inches\n",
    "* Screen Resolutions: Full HD 1920x1080, 1366x768 and IPS Panel Full HD 1920x1080 make up 78% of all laptop screen resolutions.¶\n",
    "* Central Processing Units: Intel Core i5 7200U 2.5GHz, Intel Core i7 7700HQ 2.8GHz and Intel Core i7 7500U 2.7GHz are the 3 top central processing units being used by laptop manufacturing companies\n",
    "* Memory: The top 5 Memory representing 75% are the 256GB SSD, 1TB HDD, 500GB HDD, 512GB SSD, 128GB SSD + 1TB HDD.\n",
    "* Ram: The top 3 Ram; 8GB, 4GB and 16GB make up 91% of all the Rams being used\n",
    "* Operating System: Windows 10 is the most popular Operating System making 82% of all operating systems.\n",
    "* Weight: The 5 topmost laptop weights are 2.2kg, 2.1kg, 2.4kg, 2.3kg and 2.5kg\n",
    "* Company: Lenovo, Dell, HP, Asus and Acer are the most popular brands in that order."
   ]
  },
  {
   "cell_type": "markdown",
   "id": "67160649",
   "metadata": {},
   "source": [
    "### Pricing\n",
    "* Workstations have the highest average price of 121,497.53 INR \n",
    "* The top 3 Companies with the highest average prices of laptops are Razer, LG and MSI\n",
    "* MacOS has the highest average price followed by Windows 7 and Windows 10 S in that order. Android and Chrome OS have the lowest average prices.¶\n",
    "* Computers with 32GB Rams have the highest average price. It is followed by the 24GB and the 64GB with the same average prices. The bottom 3 are the 2GB, 4GB and the 6GB computers"
   ]
  },
  {
   "cell_type": "markdown",
   "id": "f79df5f7",
   "metadata": {},
   "source": [
    "### Recommendations \n",
    "* Laptop Firms should focus on producing more products with the most popular computer configurations. Since those are the favourites of the market, the chances of those products succeeding are very high.\n",
    "* The average price of a laptop is 59,955.81 INR. The 5 most popular brands; Lenovo, Dell, HP, Asus and Acer represnting 86% share of laptops, have average prices close to the general laptop average. Firms can come up with products that can be priced around the 60,000.00 INR to appeal to the larger market."
   ]
  },
  {
   "cell_type": "code",
   "execution_count": null,
   "id": "ebcbb933",
   "metadata": {},
   "outputs": [],
   "source": []
  }
 ],
 "metadata": {
  "kernelspec": {
   "display_name": "Python 3 (ipykernel)",
   "language": "python",
   "name": "python3"
  },
  "language_info": {
   "codemirror_mode": {
    "name": "ipython",
    "version": 3
   },
   "file_extension": ".py",
   "mimetype": "text/x-python",
   "name": "python",
   "nbconvert_exporter": "python",
   "pygments_lexer": "ipython3",
   "version": "3.9.13"
  }
 },
 "nbformat": 4,
 "nbformat_minor": 5
}
